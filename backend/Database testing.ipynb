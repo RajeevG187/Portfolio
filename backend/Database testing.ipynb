{
 "cells": [
  {
   "cell_type": "code",
   "execution_count": null,
   "id": "d822a2ba",
   "metadata": {},
   "outputs": [
    {
     "ename": "",
     "evalue": "",
     "output_type": "error",
     "traceback": [
      "\u001b[1;31mRunning cells with '.venv (Python 3.10.17)' requires the ipykernel package.\n",
      "\u001b[1;31mInstall 'ipykernel' into the Python environment. \n",
      "\u001b[1;31mCommand: '\"c:/Users/r9307/Desktop/Portfolio/New folder/Portfolio/.venv/Scripts/python.exe\" -m pip install ipykernel -U --force-reinstall'"
     ]
    }
   ],
   "source": [
    "!pip install -q cassio datasets langchain tiktoken"
   ]
  },
  {
   "cell_type": "code",
   "execution_count": 1,
   "id": "b0a17078",
   "metadata": {},
   "outputs": [
    {
     "data": {
      "text/plain": [
       "True"
      ]
     },
     "execution_count": 1,
     "metadata": {},
     "output_type": "execute_result"
    }
   ],
   "source": [
    "from langchain.vectorstores.cassandra import Cassandra\n",
    "from langchain.indexes.vectorstore import VectorStoreIndexWrapper\n",
    "from langchain_core.prompts import ChatPromptTemplate\n",
    "from langchain_google_genai import GoogleGenerativeAIEmbeddings\n",
    "from langchain_google_genai import ChatGoogleGenerativeAI\n",
    "from langchain_community.document_loaders import PyPDFLoader\n",
    "from langchain_text_splitters import RecursiveCharacterTextSplitter\n",
    "import os\n",
    "import cassio\n",
    "from dotenv import load_dotenv\n",
    "load_dotenv()\n",
    "\n"
   ]
  },
  {
   "cell_type": "code",
   "execution_count": 3,
   "id": "ea7a3917",
   "metadata": {},
   "outputs": [],
   "source": [
    "documents = []\n",
    "doc_path = \"documents\"\n",
    "for file in os.listdir(doc_path):\n",
    "    if file.endswith(\".pdf\"):\n",
    "        loader = PyPDFLoader(os.path.join(doc_path, file))\n",
    "        docs = loader.load()\n",
    "        documents.extend(docs)\n",
    "splitter = RecursiveCharacterTextSplitter(\n",
    "chunk_size=500, chunk_overlap=100)"
   ]
  },
  {
   "cell_type": "code",
   "execution_count": 4,
   "id": "ee7e4439",
   "metadata": {},
   "outputs": [
    {
     "data": {
      "text/plain": [
       "[Document(metadata={'producer': 'Microsoft® Word 2021', 'creator': 'Microsoft® Word 2021', 'creationdate': '2025-04-13T19:02:10+05:30', 'author': 'Rajeev Goel', 'moddate': '2025-04-13T19:02:10+05:30', 'source': 'documents\\\\Detail_file 1.pdf', 'total_pages': 1, 'page': 0, 'page_label': '1'}, page_content=\"I'm a passionate and driven individual with a deep interest in the fields of Artificial Intelligence, \\nMachine Learning, and Full Stack Web Development. My journey so far has been an enriching blend \\nof hands-on learning, impactful internships, leadership roles, and community involvement. \\n       Projects & Technical Experience \\n• VAE + 1D-CNN for Tool Condition Monitoring (TIH-IoT, IIT Bombay): Designed a deep \\nlearning pipeline for detecting tool breakage using a combination of Variational \\nAutoencoders and 1D CNNs. Developed an intuitive interface for real-time monitoring and \\nanalysis. Worked extensively with PyTorch, MQTT, and MERN stack. \\n• NoQs Digital (Data Analyst Intern): Automated business data processes using Google Sheets, \\nPython, and TensorFlow. Built dashboards with PowerBI and earned the Star Intern award for \\nmy contributions. \\n• Polaris Website: Actively contributed to building and maintaining the Polaris event \\nwebsite—focusing on performance, responsive design, and accessibility to deliver a smooth \\nuser experience. \\n       Leadership & Responsibilities \\n• Mentor Coordinator: As the bridge between juniors and the mentorship ecosystem, I \\ncoordinated efforts to ensure clarity, learning, and growth. One key learning moment was \\nwhen a junior executed a task almost immediately after it was assigned. That simple action \\ntaught me the power of tackling responsibilities early to keep the path open for deeper work \\nand personal bandwidth later. \\n• DSAI Representative: Representing the Data Science & AI community, I work to create \\nopportunities, organize events, and bring a sense of unity among students. \\n• Executive Member, Student Alumni Cell: Here, I foster connections between current \\nstudents and alumni, bridging generational gaps with initiatives that bring value to both \\nends. \\n    Philosophy & Personal Growth \\nMy learning style thrives on curiosity, structure, and community. I believe in taking initiative, but \\nmore importantly, in learning from those around me—no matter their title or year. Be it a \\nconversation during a late-night debug or a quick tip from a junior, I try to extract growth from every \\ninteraction.\"),\n",
       " Document(metadata={'producer': 'Microsoft® Word 2021', 'creator': 'Microsoft® Word 2021', 'creationdate': '2025-04-13T19:02:53+05:30', 'author': 'Rajeev Goel', 'moddate': '2025-04-13T19:02:53+05:30', 'source': 'documents\\\\Detail_file 2.pdf', 'total_pages': 1, 'page': 0, 'page_label': '1'}, page_content='As a Data Science and Artificial Intelligence undergraduate, I’ve always been drawn to solving real-\\nworld problems through technology. My journey so far has been a blend of data-driven exploration, \\ndeep learning research, full-stack development, and meaningful leadership roles across academic \\nand professional settings. \\n     Projects & Research Work \\nOne of my most impactful experiences was during my internship at TIH-IoT, IIT Bombay, where I \\nworked on a tool condition monitoring system. I developed a hybrid deep learning model combining \\nVariational Autoencoders (VAE) and 1D Convolutional Neural Networks (1D-CNN) to classify tool \\nbreakage conditions in a manufacturing setup. The VAE helped in learning compact representations \\nfrom high-frequency sensor data, while the 1D-CNN effectively captured temporal patterns, \\nimproving classification accuracy. \\nAt NoQs Digital, where I was recognized with the Star Intern Award, I designed automated pipelines \\nusing Google Sheets API, Apps Script, and Python, significantly reducing manual effort. I also crafted \\ninteractive dashboards in Power BI, enabling real-time analytics that directly supported decision-\\nmaking across departments. It was a holistic experience involving data engineering, visualization, and \\ncommunication with stakeholders. \\n  Web Development & Leadership \\nI played a key role in developing the Polaris website, a hub for technical societies and student \\ninitiatives. Using the MERN stack, I contributed to both the frontend UI and backend logic, creating \\ndynamic content sections and CMS features. This project refined my ability to manage real-time \\ncontent, user authentication, and responsive design. \\n  Positions of Responsibility \\nCurrently serving as a DSAI Representative and Mentor Coordinator, I’ve taken on responsibilities \\nlike mentoring juniors, organizing sessions, and streamlining mentorship structures. A defining \\nmoment in this role was when one of my juniors taught me the power of early execution. He made it \\na habit to begin tasks immediately upon receiving them, which not only ensured timely completion \\nbut also gave room for creative refinements and contingency planning. This shifted my mindset from \\nplanning to proactive execution—one of the most valuable lessons I’ve learned outside a classroom. \\nAs an Executive Member of the Student Alumni Cell, I contribute to organizing alumni events, \\nfostering industry-academia connections, and building a strong community presence. These \\nexperiences have boosted my communication skills, time management, and strategic thinking. \\n      Skills & Tools \\n• Languages: Python, C/C++, JavaScript, TypeScript, LaTeX \\n• Frameworks: PyTorch, TensorFlow, Keras, MERN, LangChain \\n• Tools & Libraries: Pandas, Scikit-learn, Power BI, BeautifulSoup, MQTT, Google Apps Script \\n• Domains: Machine Learning, Deep Learning, NLP , Data Visualization, Full-stack Development \\n• Soft Skills: Leadership, Communication, Analytical Thinking, Initiative-taking'),\n",
       " Document(metadata={'producer': 'Microsoft® Word 2021', 'creator': 'Microsoft® Word 2021', 'creationdate': '2025-04-13T19:03:45+05:30', 'author': 'Rajeev Goel', 'moddate': '2025-04-13T19:03:45+05:30', 'source': 'documents\\\\Detail_file 3.pdf', 'total_pages': 2, 'page': 0, 'page_label': '1'}, page_content='Technical Skills & Projects \\n  Web Development \\n• Frontend: React.js, Tailwind CSS, HTML5 \\n• Backend: Node.js, Express.js \\n• Full-Stack: MERN (MongoDB, Express, React, Node) \\n• Tools: REST APIs, Git, GitHub, Netlify \\nProject: EXAM BOOSTER – JEE/NEET Practice App \\nA full-stack web app built using the MERN stack that helps students prepare for competitive exams. It \\nfeatures mock tests, result visualization, and progress tracking. \\nSkills Used: React, Express.js, MongoDB, Node.js, REST API \\n \\n         Machine Learning & Deep Learning \\n• Frameworks: PyTorch, TensorFlow, Keras \\n• Concepts: CNNs, RNNs, VAEs, Q-learning, Reinforcement Learning \\n• Tools: Scikit-learn, NumPy, OpenCV, Google Colab \\nProject: Sketch2Image UNet \\nDeveloped a custom UNet architecture to convert line-art sketches into realistic images. The network \\nlearns semantic mapping from sparse pixel data. \\nSkills Used: PyTorch, Deep Learning, Computer Vision, UNet Architecture \\nProject: Automatic Image Captioning & Speech Synthesis for Blind People \\nBuilt an end-to-end pipeline combining CNN + RNN-based image captioning with text-to-speech, \\nmaking image interpretation accessible for visually impaired individuals. \\nSkills Used: TensorFlow, Keras, NLP , TTS, OpenCV, LSTM, VGG16 \\nProject: Q-learning Route Optimizer \\nUsed reinforcement learning to optimize delivery routes in urban areas. The model learns to \\nminimize delivery time by rewarding the most efficient paths. \\nSkills Used: Q-learning, Reinforcement Learning, Python, GridWorld \\n \\n      Data Analysis & Visualization \\n• Libraries: Pandas, Matplotlib, Seaborn \\n• Tools: Power BI, Google Sheets Scripting \\n• Techniques: EDA, Time Series Analysis, Feature Engineering \\nProject: Breaking the Silence \\nA data analysis project on rape cases across India, this project explores temporal and geographic \\npatterns, revealing actionable insights using dashboards and visual storytelling. \\nSkills Used: Pandas, Seaborn, Power BI, Data Cleaning, Data Visualization'),\n",
       " Document(metadata={'producer': 'Microsoft® Word 2021', 'creator': 'Microsoft® Word 2021', 'creationdate': '2025-04-13T19:03:45+05:30', 'author': 'Rajeev Goel', 'moddate': '2025-04-13T19:03:45+05:30', 'source': 'documents\\\\Detail_file 3.pdf', 'total_pages': 2, 'page': 1, 'page_label': '2'}, page_content='Internships & Real-World Experience \\n       NoQs Digital (Data Analyst Intern) \\n• Created data extraction tools using Google Apps Script and Python \\n• Built interactive dashboards in Power BI, helping department heads understand trends \\n• Earned the Star Intern Award \\nSkills Applied: Google Sheets Automation, Power BI, TensorFlow, Data Pipeline Automation \\n    TIH-IoT, IIT Bombay (Project Intern under Chanakya Fellowship) \\n• Designed a hybrid VAE + 1D-CNN model for real-time tool condition monitoring \\n• Built a full-stack dashboard using MERN, deployed on local servers \\n• Tech Stack: PyTorch, MQTT, React, MongoDB, Spark \\nSkills Applied: PyTorch, Deep Learning, MERN Stack, MQTT, Time-Series Analytics'),\n",
       " Document(metadata={'producer': 'pdfTeX-1.40.26', 'creator': 'LaTeX with hyperref', 'creationdate': '2025-06-08T06:08:52+00:00', 'author': '', 'keywords': '', 'moddate': '2025-06-08T06:08:52+00:00', 'ptex.fullbanner': 'This is pdfTeX, Version 3.141592653-2.6-1.40.26 (TeX Live 2024) kpathsea version 6.4.0', 'subject': '', 'title': '', 'trapped': '/False', 'source': 'documents\\\\RAJEEV GOEL June.pdf', 'total_pages': 2, 'page': 0, 'page_label': '1'}, page_content='Rajeev Goel\\n[rajeevg@iitbhilai.ac.in] | [rajeev.goel187@gmail.com] | Phone: +91 76478 75728\\nLinkedIn: [rajeevgoel187] | GitHub: [RajeevG187] | Website: [Rajeev Goel]\\nLocation: Durg, India\\nPROFESSIONAL SUMMARY\\n• Data Science and AI student with expertise in Python, PyTorch, and TensorFlow. Delivered actionable insights\\nthrough data analysis at NoQs Digital and developed machine learning models at TIH-IoT IIT Bombay. Proficient in\\nproblem-solving, deep learning and MERN development.\\nEDUCATION\\n• Indian Institute of Technology, Bhilai August 2022 - May 2026\\nB.Tech in Data Science and Artificial Intelligence CGPA: 9.25 [Grade transcript]\\n• Prayag Public School, Allahabad April 2020 - March 2022\\nClass XII - Intermediate, CBSE Percentage: 95.4\\nWORK EXPERIENCE\\n• Code4GovTech - DMP 2025 June 2025 – Present\\nContributor Remote\\n– Selected For: Making the imporvements in the RCTS-IIITH project for\\nAI-Assisted-Mental-Health-Screening-Application\\n– Opensource Contribution: towards the issue [[DMP 2025]:AI-Assisted-Mental-Health-Screening-Application]\\n– Developed: a chatbot-based testing system. The chatbot offers an engaging and adaptive interface tailored for both\\nchildren and adults, helping to conduct mental health assessments effectively.\\n– Technologies: Python, ReactJS, Redux, NodeJS, MongoDB, FastAPI, Langchain, RAG based architecture\\n• Assurant May 2025 – Present\\nGen AI Specialist Intern Remote\\n– Developed: A system trained on reinforcement learning to answer the customer related queries.\\n– Technologies: PyTorch, Google Colab, Docker, Azure.\\n• TIH-IoT IIT Bombay (Chanakya) Fellow December 2024 – Present\\nProject Intern Remote\\n– Developed: achieving 95.55% accuracy in a deep learning model integraing V AE and 1D-CNN.\\n– Designed and built: PyQt5 based software for real time low latency access to the force data and model prediction.\\n– Technologies: PyTorch, Google Colab\\n• NoQs Digital July 2024 - August 2024\\nData Analyst Intern Remote\\n– Analyzed: business data needs with managers and automated data extraction using Python tools.\\n– Awards: [Star Intern Award], [Letter of Recommendation].\\n– Technologies: Google Sheets, PowerBI, Google Colab, TensorFlow, Seaborn.\\nPROJECTS\\n• Sketch to Image Translation Model (S2I) [Link]\\n– Developed: a GAN-based neural network with PyTorch to generate colored face images from sketches, achieving 85%\\naccuracy.\\n– Documentation: [Model Architecture and Results].\\n• Chat-bot integrated Portfolio [Link]\\n– Developed: Complete frontend using React.js and backend using FastAPI(Python).\\n– RAG based: chatbot is integrated using LangChain and OLLAMA to answer queries related to me.\\n• Multimodal System for Image-to-Indian-Speech [Link]\\n– Designed: a pipeline using BLIP, IndicTrans2, and gTTS to generate Indian language audio captions for visually\\nimpaired users.\\n• Grocery Delivery Route Optimizer [Link]\\n– Optimized: delivery routes using Q-learning, reducing travel distance by 15%.\\nACHIEVEMENTS\\n• InterIIT Tech-meet 13.0: Ranked 11th among 23 IITs solving an ISRO problem.\\n• LeetCode: Solved 280+ problems across difficulty levels. [Profile].\\n• SIH 2024: Prefinalist in SIH 2024'),\n",
       " Document(metadata={'producer': 'pdfTeX-1.40.26', 'creator': 'LaTeX with hyperref', 'creationdate': '2025-06-08T06:08:52+00:00', 'author': '', 'keywords': '', 'moddate': '2025-06-08T06:08:52+00:00', 'ptex.fullbanner': 'This is pdfTeX, Version 3.141592653-2.6-1.40.26 (TeX Live 2024) kpathsea version 6.4.0', 'subject': '', 'title': '', 'trapped': '/False', 'source': 'documents\\\\RAJEEV GOEL June.pdf', 'total_pages': 2, 'page': 1, 'page_label': '2'}, page_content='SKILLS\\n• Programming Languages: Python, C/C++, JavaScript (MERN), LaTeX\\n• Frameworks & Libraries: PyTorch, Langchain, FIASS, OLLAMA, FastAPI\\n• Coursework: Machine Learning, Deep Learning, GANs, LLMs, Data Structures, Algorithms, Data Analytics\\n• Tools: Git, Github, Google Colab, PowerBI, LangChain, Docker, Kubernetes\\n• Extra Skills: Management, Leadership, Video Editing, Photoshop/Canva\\nCERTIFICATIONS\\n• Competitive Coding Conclave: IIT Madras, 2023\\n• Fundamentals of Docker and Kubernetes: Scaler, 2024\\nPOSITIONS OF RESPONSIBILITY\\n• DSAI Representative April 2024 - April 2025\\nCentre for Career Planning & Services, IIT Bhilai\\n- Lead a team of 5 people assisting in placement process\\n• Mentor Coordinator April 2024 - April 2025\\nStudent Mentorship Programme, IIT Bhilai\\n-Lead a team of 10 people for a web dev task(Polaris) and smooth execution of SMP\\n• Executive Feburary 2024 - January 2025\\nStudent Alumni Cell, IIT Bhilai'),\n",
       " Document(metadata={'producer': 'pdfTeX-1.40.26', 'creator': 'LaTeX with hyperref', 'creationdate': '2025-06-12T14:29:50+00:00', 'author': '', 'keywords': '', 'moddate': '2025-06-12T14:29:50+00:00', 'ptex.fullbanner': 'This is pdfTeX, Version 3.141592653-2.6-1.40.26 (TeX Live 2024) kpathsea version 6.4.0', 'subject': '', 'title': '', 'trapped': '/False', 'source': 'documents\\\\Rajeev Goel Resume 1P.pdf', 'total_pages': 1, 'page': 0, 'page_label': '1'}, page_content='Rajeev Goel\\n[rajeevg@iitbhilai.ac.in] | [rajeev.goel187@gmail.com] | Phone: +91 9307304394\\nLinkedIn: [rajeevgoel187] | GitHub: [RajeevG187] | Website: [Rajeev Goel]\\nEDUCATION\\n• Indian Institute of Technology, Bhilai August 2022 - Ongoing(2026)\\nB.Tech in Data Science and Artificial Intelligence CGPA: 9.25 [Grade transcript]\\n• Prayag Public School, Allahabad April 2020 - March 2022\\nClass XII - Intermediate, CBSE Percentage: 95.4\\nINTERNSHIPS\\n• Code4GovTech - DMP 2025 June 2025 – Present\\nContributor Remote\\n– Selected For : Making the imporvements in the RCTS-IIITH project for\\nAI-Assisted-Mental-Health-Screening-Application\\n– Opensource Contribution : towards the issue [DMP 2025]:AI-Assisted-Mental-Health-Screening-Application\\n– Developed : a chatbot-based testing system. The chatbot offers an engaging and adaptive interface tailored for both\\nchildren and adults, helping to conduct mental health assessments effectively.\\n– Technologies : Python, ReactJS, Redux, NodeJS, MongoDB, FastAPI, Langchain, RAG based architecture\\n• Assurant May 2025 – Present\\nGen AI Specialist Intern Remote\\n– Automated : Report making based on the data pipeline through Data Lakehouse based on a prediction model.\\n– Optimized : the sales by building a chatbot complementing the knowlwdge of sales specialists.\\n– Technologies : PyTorch, Google Colab, Docker, Azure.\\n• TIH-IoT IIT Bombay (Chanakya) Fellow December 2024 – Present\\nProject Intern Remote\\n– Developed : achieving 95.55% accuracy in a deep learning model integraing V AE and 1D-CNN.\\n– Designed and built : PyQt5 based software for real time low latency access to the force data and model prediction.\\n– Technologies : PyTorch, Google Colab\\n• Polaris - IIT Bhilai April 2024 – July 2024\\nWebsite Manager Remote\\n– Lead : a team of 9 juniors to update and manage one of the official websites of IIT Bhilai\\n– Updated : the UI/UX, the information and achieved 90% reduction in the loading time.\\n– Technologies : PHP, HTML, CSS\\nPROJECTS\\n• Here For You [Check it out]\\n– Developed : A privacy first design for mentally exhausted people to converse to a RAG based chatbot having\\nknowlwdge of ICD-11 manual.\\n– Booking System : for users to book appointments with mental health specialists based on Chatbots’s recommendation.\\n• Chat-bot integrated Portfolio [Check it out]\\n– Developed : Complete frontend using React.js and backend using FastAPI(Python).\\n– RAG based : chatbot is integrated using LangChain and OLLAMA to answer queries related to me.\\nACHIEVEMENTS\\n• InterIIT Tech-meet 13.0: Ranked 11th among 23 IITs solving an ISRO problem.\\n• LeetCode: Solved 280+ problems across difficulty levels. [Profile].\\n• Got A grade in: Algorithms, Data Analytics and Viz., Big Data, Artificial Intelligence, Machine Learning,\\nComputer Networks(TCP/IP), Information Security, Natural Language Processing, Network Science.\\nSKILLS\\n• Proficient in : Python, C++, JavaScript, PyTorch, Langchain, FastAPI, MERN, RAGs, LLMs, NLP,\\nHuggingface, Git, Github, version Control, Unix/Ubuntu based systems\\n• Intermediate in: DSA, Reinforcement learning, PowerBI, LangGraph, Docker ,Kubernetes, Azure, AWS\\nPOSITIONS OF RESPONSIBILITY\\n• DSAI Representative April 2024 - April 2025\\nCentre for Career Planning & Services, IIT Bhilai\\n- Lead a team of 5 people assisting in placement process'),\n",
       " Document(metadata={'producer': 'pdfTeX-1.40.26', 'creator': 'LaTeX with hyperref', 'creationdate': '2025-02-07T10:48:58+00:00', 'author': '', 'keywords': '', 'moddate': '2025-02-07T10:48:58+00:00', 'ptex.fullbanner': 'This is pdfTeX, Version 3.141592653-2.6-1.40.26 (TeX Live 2024) kpathsea version 6.4.0', 'subject': '', 'title': '', 'trapped': '/False', 'source': 'documents\\\\Rajeev Goel_.pdf', 'total_pages': 2, 'page': 0, 'page_label': '1'}, page_content='Rajeev Goel\\nrajeevg@iitbhilai.ac.in | rajeev.goel187@gmail.com | Phone: +91 76478 75728\\nLinkedIn: rajeevgoel187 | GitHub: RajeevG187\\nLocation: Durg, India\\nProfessional Summary\\n•I have strong analytical and problem-solving skills. My academic and professional experiences, including a\\nData Analyst internship at NoQs Digital, have equipped me to deliver actionable insights through\\ndata-driven approaches. I am proficient in Python, C++, and MERN(Javascript), with expertise in\\nframeworks like PyTorch and TensorFlow for Deep Learning based tasks.\\nEducation\\n•Indian Institute of Technology, Bhilai CGPA: 9.12\\nB.Tech in Data Science and Artificial Intelligence 2022 - Expected Graduation:2026\\n•Prayag Public School, Allahabad Percentage: 95.4\\nClass XII - Intermediate, CBSE 2020 - 2022\\n•Bishop Johnson School and College, Allahabad Percentage: 93.4\\nClass X - ICSE 2018 - 2020\\nExperience\\n•TIH-IoT IIT Bombay (Chanakya) Fellow Remote\\nProject Intern December 2024 – Present\\n–Deep Learning Model: for tool breakage prediction.\\n–Full Stack Interface development: for end device access of model.\\n–Technologies: Spark, PyTorch, Google Colab, MERN and its libraries.\\n•NoQs Digital Remote\\nData Analyst Intern (Star Intern Award & Letter of Recommendation) July 2024 - August2024\\n–Data Analysis and Tool Automation: Work with departmental managers to outline the specific\\ndata needs for business use. Using automated tools to extract data from various sources.\\n–Technologies: Google Sheets, PoweerBI, Google Colab, TensorFlow, Seaborn.\\n•RecogX Bhilai\\nApplication Developer Intern November 2023 - Feburary2024\\n–App Dev: JEE/NEET based online test application for students of class11th and12th. Consisting of\\nfeatures like MYOT (Make Your Own Test) for teachers to generate tests in PDF format for personal\\nuse.\\n–Technologies: Flutter, Node.js, MongoDB.\\nProjects\\n•Sketch to Image Translation Model(S2I) GitHub\\nA team project to develop a new GAN Based Neural Network obtain colored image of people’s faces from\\ntheir sketch. Tech used, PyTorch and its libraries.\\n•Multimodal System for Image-to-Indian-Speech GitHub\\nDeveloped pipeline for generating Indian language audio captions from images using BLIP, IndicTrans2,\\nand gTTS for the aid of visually impaired people.\\n•Grocery Delivery Route Optimizer Using Q-Learning GitHub\\nOptimized grocery delivery routes using reinforcement learning with Q-learning to minimize costs and travel\\ndistance.'),\n",
       " Document(metadata={'producer': 'pdfTeX-1.40.26', 'creator': 'LaTeX with hyperref', 'creationdate': '2025-02-07T10:48:58+00:00', 'author': '', 'keywords': '', 'moddate': '2025-02-07T10:48:58+00:00', 'ptex.fullbanner': 'This is pdfTeX, Version 3.141592653-2.6-1.40.26 (TeX Live 2024) kpathsea version 6.4.0', 'subject': '', 'title': '', 'trapped': '/False', 'source': 'documents\\\\Rajeev Goel_.pdf', 'total_pages': 2, 'page': 1, 'page_label': '2'}, page_content='•Breaking the Silence GitHub\\nConducted an exploratory data analysis on rape statistics in India using data from NCRB and Twitter.\\nIdentified state-wise trends.\\nAchivements\\n• InterIIT Tech-meet13.0: In Problem Posed byISRO our team obtained11th rank amongst23 IITs.\\n• Leetcode: Solved more than160 problems in all categoreis of difficulty and topics. [MyProfile]\\nSkills\\n• Languages: C/C++, Python, Dart(Flutter), JavaScript(MERN), TypeScript, LaTeX\\n• ML Libraries & Frameworks: PyTorch, TensorFlow-Keras, Pandas, Seaborn, Matplotlib,\\nBeautifulSoup, plotly\\n• Coursework: Data Structures, Algorithms, Operations Research, Data Analytics and Visualization, AI,\\nOptimization, Machine Learning, Natural Language Processesing\\n• Soft Skills: Leadership, Communication, Collaboration, Analytical Skills, Problem-Solving, Time\\nManagement\\nCertifications\\n• Competitive Coding Conclave: IIT Madras,2023\\n• Fundamentals of Docker and Kubernetes: Scaler, 2024\\nPositions of Responsibility\\n•DSAI Representative Centre for Career Planning & Services, IIT Bhilai\\n04/2024 - Present\\n•Mentor Coordinator Student Mentorship Programme, IIT Bhilai\\n04/2024 - Present\\n•Executive Student Alumni Cell, IIT Bhilai\\n02/2024 - 01/2025'),\n",
       " Document(metadata={'producer': 'iLovePDF', 'creator': 'PyPDF', 'creationdate': '', 'moddate': '2025-02-14T21:37:47+00:00', 'source': 'documents\\\\Rajeev Goel_Transcripts_All-Semesters (1 to 5)_Nov_2024 Updated.pdf', 'total_pages': 5, 'page': 0, 'page_label': '1'}, page_content='A B C F I \\n10 8 6 0 0 \\n \\nS F \\nSatisfactory Fail Repeat \\n \\n \\n \\n \\n \\n \\nDate: Feb 11, 2023 \\n  \\n \\nBachelor of Technology \\n \\n \\nName \\nID Number \\nDiscipline \\nSemester \\nRAJEEV GOEL \\n12241460 \\nData Science and Artificial Intelligence \\n2022-23-M \\n \\n \\n \\nCourse \\nCode \\nCourse Name Course Type Credits \\nRegistered \\nGrade \\n AA101  Essential Physical Activity  Additional Activity       1 S \\nAA102 National Sports Organization Additional Activity 2 SS \\nCA100 Professional Communication Lab-I \\nSketching and Drawing \\nLiberal Arts/Creative Arts 1 A- \\nLA353 EXPERIENCING INDIAN UNIVERITY Liberal Arts/Creative Arts 2 C- \\nLA332 CHINESE CULTURE Liberal Arts/Creative Arts 1 A+ \\nIC107 Physics Lab Institute Core 3 B \\nIC100 Introduction to Programming Institute Core 6 A+ \\nIC104 Linear Algebra I Institute Core 3 B \\nIC101 Digital Fabrication Institute Core 6 B \\nIC102 Electromagnetism Institute Core 2 A+ \\nIC105 Probability and Statistics Institute Core 4 B \\nIC103 Material Chemistry I Institute Core 2 A \\nSemester Grade Point Average (SGPA): 8.56 Cumulative Grade Point Average (CGPA): 8.56 \\n \\n \\n \\n \\n \\n \\n \\n \\n \\nThe Institute awards no rank or class to the students. \\n \\nGrades for Regular Courses \\n \\nA+ A A- B B- C C- D FS F I \\n10 10 9 8 7 6 5 4 0 0 0 \\n \\nGrades for Thesis and Candidacy Grades for activities like EPA/NSS/NSO \\n \\n \\n \\nDean, Academic Affairs'),\n",
       " Document(metadata={'producer': 'iLovePDF', 'creator': 'PyPDF', 'creationdate': '', 'moddate': '2025-02-14T21:37:47+00:00', 'source': 'documents\\\\Rajeev Goel_Transcripts_All-Semesters (1 to 5)_Nov_2024 Updated.pdf', 'total_pages': 5, 'page': 1, 'page_label': '2'}, page_content='Date: May 26, 2023\\n Dean, Academic Affairs\\n10\\nA\\n8\\nB\\n6\\nC\\n0\\nF\\n0\\nI\\nSatisfactory\\nS\\nFail Repeat\\nF\\nGrades for Thesis and Candidacy Grades for activities like EPA/NSS/NSO\\n10\\nA+\\n10\\nA\\n9\\nA-\\n8\\nB\\n7\\nB-\\n6\\nC\\n5\\nC-\\n4\\nD\\n0\\nFS\\n0\\nF\\n0\\nI\\nGrades for Regular Courses\\nThe Institute awards no rank or class to the students.\\nBachelor of Technology\\nSemester\\nDiscipline\\nID Number\\nName\\n2022-23-W\\nData Science and Artificial Intelligence\\n12241460\\nRAJEEV GOEL\\nCourse\\nCode\\nCourse Name Course Type Credits\\nRegistered\\nGrade\\nAA102 Additional Activity 2 SSNational Sports Organization\\nCA150 Liberal Arts/Creative Arts 1 AProfessional Communication Lab-II \\nPresentation Skills\\nCS101 Professional Core 4 A-Discrete Structures-I\\nCS102 Professional Core 4 BData Structures\\nDS100 Professional Core 4 BMathematical Foundations of Data Science\\nIC106 Institute Core 3 AChemistry Lab\\nIC150 Institute Core 6 AApplied Digital Logic Design\\nIC151 Institute Core 2 BQuantum Physics\\nIC152 Institute Core 3 A-Linear Algebra-II\\nIC153 Institute Core 3 BCalculus-I\\nSemester Grade Point Average (SGPA): Cumulative Grade Point Average (CGPA): 8.90 8.73'),\n",
       " Document(metadata={'producer': 'iLovePDF', 'creator': 'PyPDF', 'creationdate': '', 'moddate': '2025-02-14T21:37:47+00:00', 'source': 'documents\\\\Rajeev Goel_Transcripts_All-Semesters (1 to 5)_Nov_2024 Updated.pdf', 'total_pages': 5, 'page': 2, 'page_label': '3'}, page_content='Date: January 12, 2024\\n Dean, Academic Affairs\\n10\\nA\\n9\\nA-\\n8\\nB\\n7\\nB-\\n6\\nC\\n0\\nF\\nSatisfactory\\nS\\nUnsatisfactory\\nX\\nGrades for Thesis (except PhD Thesis) Grades for Non-graded courses/PhD Thesis\\n10\\nA+\\n10\\nA\\n9\\nA-\\n8\\nB\\n7\\nB-\\n6\\nC\\n5\\nC-\\n4\\nD\\n0\\nFS\\n0\\nF\\n0\\nI\\nGrades for Regular Courses\\nThe Institute awards no rank or class to the students.\\nBachelor of Technology\\nSemester\\nDiscipline\\nID Number\\nName\\n2023-24-M\\nData Science and Artificial Intelligence\\n12241460\\nRAJEEV GOEL\\nCourse\\nCode\\nCourse Name Course Type Credits\\nRegistered\\nGrade\\nAA101 Additional Activity 1 SEssential Physical Activity\\nAA102 Additional Activity 1 SNational Sports Organization\\nCA200 Liberal Arts/Creative Arts 1 A-Professional Communication Lab-III-\\nTechnical Literature Structure\\nCS202 Professional Core 4 A+Algorithms  I\\nDS210 Professional Core 2 A-Data Analytics and Visualization Lab\\nDS250 Professional Core 6 A-Data Analytics and Visualization\\nIC200 Institute Core 4 A+Introduction to Astronomy and\\nAstrophysics\\nIC201 Institute Core 2 AEnvironmental Studies\\nIC202 Institute Core 3 A-Calculus II\\nLA252 Liberal Arts/Creative Arts 4 AIntroduction to Stress and Coping\\nLA321 Liberal Arts/Creative Arts 2 AMacroeconomics\\nMA605 Professional Core 4 A-Operations Research\\nSemester Grade Point Average (SGPA): Cumulative Grade Point Average (CGPA): 9.50 9.00'),\n",
       " Document(metadata={'producer': 'iLovePDF', 'creator': 'PyPDF', 'creationdate': '', 'moddate': '2025-02-14T21:37:47+00:00', 'source': 'documents\\\\Rajeev Goel_Transcripts_All-Semesters (1 to 5)_Nov_2024 Updated.pdf', 'total_pages': 5, 'page': 3, 'page_label': '4'}, page_content='Date: May 23, 2024\\n Dean, Academic Affairs\\n10\\nA\\n9\\nA-\\n8\\nB\\n7\\nB-\\n6\\nC\\n0\\nF\\nSatisfactory\\nS\\nUnsatisfactory\\nX\\nGrades for Thesis (except PhD Thesis) Grades for Non-graded courses/PhD Thesis\\n10\\nA+\\n10\\nA\\n9\\nA-\\n8\\nB\\n7\\nB-\\n6\\nC\\n5\\nC-\\n4\\nD\\n0\\nFS\\n0\\nF\\n0\\nI\\nGrades for Regular Courses\\nThe Institute awards no rank or class to the students.\\nBachelor of Technology\\nSemester\\nDiscipline\\nID Number\\nName\\n2023-24-W\\nData Science and Artificial Intelligence\\n12241460\\nRAJEEV GOEL\\nCourse\\nCode\\nCourse Name Course Type Credits\\nRegistered\\nGrade\\nAA102 Additional Activity 2 SSNational Sports Organization\\nDS200 Professional Core 6 A-Architecture for Management of Large\\nDatasets\\nDS201 Professional Core 4 BStatistical Programming\\nDS251 Professional Core 6 AArtificial Intelligence\\nDS252 Professional Core 2 A-Big Data Lab\\nIC250 Institute Core 2 A+Materials Chemistry-II\\nIC251 Institute Core 4 ABasics of Bioinformatics\\nLA249 Liberal Arts/Creative Arts 4 A-Introduction to Understanding\\nPsychological Disorders\\nLA305 Liberal Arts/Creative Arts 4 CCity in Literature\\nSemester Grade Point Average (SGPA): Cumulative Grade Point Average (CGPA): 8.88 8.97'),\n",
       " Document(metadata={'producer': 'iLovePDF', 'creator': 'PyPDF', 'creationdate': '', 'moddate': '2025-02-14T21:37:47+00:00', 'source': 'documents\\\\Rajeev Goel_Transcripts_All-Semesters (1 to 5)_Nov_2024 Updated.pdf', 'total_pages': 5, 'page': 4, 'page_label': '5'}, page_content='Date: January 10, 2025\\nDean, Academic Affairs\\n10\\nA\\n9\\nA-\\n8\\nB\\n7\\nB-\\n6\\nC\\n0\\nF\\nSatisfactory\\nS\\nUnsatisfactory\\nX\\nGrades for Thesis (except PhD Thesis)\\nGrades for Non-graded courses/PhD Thesis\\n10\\nA+\\n10\\nA\\n9\\nA-\\n8\\nB\\n7\\nB-\\n6\\nC\\n5\\nC-\\n4\\nD\\n0\\nFS\\n0\\nF\\n0\\nI\\nGrades for Regular Courses\\nThe Institute awards no rank or class to the students.\\nBachelor of Technology\\nSemester\\nDiscipline\\nID Number\\nName\\n2024-25-M\\nData Science and Artificial Intelligence\\n12241460\\nRAJEEV GOEL\\nCourse\\nCode\\nCourse Name\\nCourse Type\\nCredits\\nRegistered\\nGrade\\nAA102\\nAdditional Activity\\n1\\nS\\nNational Sports Organization\\nCA250\\nLiberal Arts/Creative Arts\\n2\\nA-\\nProfessional Ethics\\nCS301\\nDepartmental Elective\\n6\\nA+\\nComputer Networks\\nCS550\\nProfessional Core\\n6\\nA-\\nMachine Learning\\nDS209\\nProfessional Core\\n6\\nA\\nInformation Security\\nDS504\\nDepartmental Elective\\n6\\nA+\\nNatural Language Processing\\nDS510\\nProfessional Core\\n2\\nA\\nArtificial Intelligence and Machine\\nLearning Lab\\nIC300\\nInstitute Core\\n2\\nA-\\nMaterials Chemistry III\\nLA358\\nLiberal Arts/Creative Arts\\n2\\nA+\\nGame Theory\\nSemester Grade Point Average (SGPA): \\nCumulative Grade Point Average (CGPA): \\n9.69\\n9.12')]"
      ]
     },
     "execution_count": 4,
     "metadata": {},
     "output_type": "execute_result"
    }
   ],
   "source": [
    "documents"
   ]
  },
  {
   "cell_type": "code",
   "execution_count": 5,
   "id": "a79c94b6",
   "metadata": {},
   "outputs": [],
   "source": [
    "DATABASE_TOKEN = os.getenv(\"DATABASE_TOKEN\")\n",
    "DATABASE_ID = os.getenv(\"DATABSE_ID\")"
   ]
  },
  {
   "cell_type": "code",
   "execution_count": 6,
   "id": "0b3f2a49",
   "metadata": {},
   "outputs": [],
   "source": [
    "cassio.init(token = DATABASE_TOKEN, database_id = DATABASE_ID)"
   ]
  },
  {
   "cell_type": "code",
   "execution_count": 7,
   "id": "cb1dc2f9",
   "metadata": {},
   "outputs": [
    {
     "name": "stderr",
     "output_type": "stream",
     "text": [
      "Unexpected argument 'streaming' provided to ChatGoogleGenerativeAI. Did you mean: 'disable_streaming'?\n",
      "c:\\Users\\r9307\\Desktop\\Portfolio\\New folder\\Portfolio\\.venv\\lib\\site-packages\\IPython\\core\\interactiveshell.py:3579: UserWarning: WARNING! streaming is not default parameter.\n",
      "                streaming was transferred to model_kwargs.\n",
      "                Please confirm that streaming is what you intended.\n",
      "  exec(code_obj, self.user_global_ns, self.user_ns)\n"
     ]
    }
   ],
   "source": [
    "llm = ChatGoogleGenerativeAI(\n",
    "    model = 'gemini-2.0-flash-001',\n",
    "    api_key= os.getenv('GOOGLE_API_KEY'),\n",
    "    streaming = True,\n",
    ")\n",
    "embeddings = GoogleGenerativeAIEmbeddings(\n",
    "    model = 'models/text-embedding-004',\n",
    "    google_api_key= os.getenv('GOOGLE_API_KEY')\n",
    ")"
   ]
  },
  {
   "cell_type": "code",
   "execution_count": 42,
   "id": "1c447e9a",
   "metadata": {},
   "outputs": [],
   "source": [
    "astra_vector_store = Cassandra(\n",
    "    embedding=embeddings,\n",
    "    table_name=\"test1\",\n",
    "    session=None,\n",
    "    keyspace=None\n",
    ")"
   ]
  },
  {
   "cell_type": "code",
   "execution_count": 43,
   "id": "dd345a6e",
   "metadata": {},
   "outputs": [],
   "source": [
    "astra_vector_store = Cassandra(\n",
    "    embedding=embeddings,\n",
    "    table_name=\"test2\",\n",
    "    session=None,\n",
    "    keyspace=None\n",
    ")"
   ]
  },
  {
   "cell_type": "code",
   "execution_count": 40,
   "id": "c67638c1",
   "metadata": {},
   "outputs": [],
   "source": [
    "prompt = ChatPromptTemplate.from_template(\n",
    "        \"Answer the following question based on the provided context.\\n\"\n",
    "        \"In the given context consider I as Rajeev Goel..\\n\"\n",
    "        \"<context>\\n{context}\\n</context>\\n\\n\"\n",
    "        \"Question: {input}\"\n",
    "    )"
   ]
  },
  {
   "cell_type": "code",
   "execution_count": 44,
   "id": "ceed4c5a",
   "metadata": {},
   "outputs": [
    {
     "name": "stdout",
     "output_type": "stream",
     "text": [
      "Inserted\n"
     ]
    }
   ],
   "source": [
    "astra_vector_store.add_documents(documents)\n",
    "print(\"Inserted\")\n",
    "astra_vector_index = VectorStoreIndexWrapper(vectorstore=astra_vector_store)"
   ]
  },
  {
   "cell_type": "code",
   "execution_count": 45,
   "id": "555d2682",
   "metadata": {},
   "outputs": [
    {
     "name": "stdout",
     "output_type": "stream",
     "text": [
      "0.8330926680733981 Rajeev Goe\n",
      "0.7771210647660665 A B C F I \n",
      "0.7765393890017585 Date: Janu\n",
      "0.7711983014144657 Date: May \n"
     ]
    }
   ],
   "source": [
    "query = \"Who is Rajeev Goel?\"\n",
    "answer = astra_vector_index.query(query, llm=llm).strip()\n",
    "\n",
    "for doc, score in astra_vector_store.similarity_search_with_score(query=query, k=4):\n",
    "    print(score, doc.page_content[:10])"
   ]
  },
  {
   "cell_type": "code",
   "execution_count": 46,
   "id": "f319524f",
   "metadata": {},
   "outputs": [
    {
     "data": {
      "text/plain": [
       "'Rajeev Goel is a B.Tech student in Data Science and Artificial Intelligence at the Indian Institute of Technology, Bhilai, expected to graduate in 2026. He has a CGPA of 9.12. He has experience as a Project Intern at TIH-IoT IIT Bombay (Chanakya), a Data Analyst Intern at NoQs Digital, and an Application Developer Intern at RecogX Bhilai.'"
      ]
     },
     "execution_count": 46,
     "metadata": {},
     "output_type": "execute_result"
    }
   ],
   "source": [
    "answer"
   ]
  },
  {
   "cell_type": "code",
   "execution_count": 47,
   "id": "260f2f07",
   "metadata": {},
   "outputs": [],
   "source": [
    "vector_store = Cassandra(\n",
    "    embedding=embeddings,\n",
    "    table_name=\"test2\",\n",
    "    session=None,\n",
    "    keyspace=None\n",
    ")"
   ]
  },
  {
   "cell_type": "code",
   "execution_count": 48,
   "id": "c46c48a5",
   "metadata": {},
   "outputs": [
    {
     "data": {
      "text/plain": [
       "'What company are you referring to? Rajeev Goel has worked at NoQs Digital, TIH-IoT IIT Bombay (Chanakya), and RecogX Bhilai. He has also contributed to the Polaris Website.'"
      ]
     },
     "execution_count": 48,
     "metadata": {},
     "output_type": "execute_result"
    }
   ],
   "source": [
    "vector_index = VectorStoreIndexWrapper(vectorstore=vector_store)\n",
    "query = \"What is the name of the company?\"\n",
    "answer = vector_index.query(query, llm=llm).strip()\n",
    "answer"
   ]
  },
  {
   "cell_type": "code",
   "execution_count": 49,
   "id": "f914bac2",
   "metadata": {},
   "outputs": [
    {
     "name": "stdout",
     "output_type": "stream",
     "text": [
      "Collecting astrapy\n",
      "  Downloading astrapy-2.0.1-py3-none-any.whl.metadata (23 kB)\n",
      "Collecting deprecation<2.2.0,>=2.1.0 (from astrapy)\n",
      "  Downloading deprecation-2.1.0-py2.py3-none-any.whl.metadata (4.6 kB)\n",
      "Requirement already satisfied: httpx<1,>=0.25.2 in /home/rajeev/miniconda3/envs/langc/lib/python3.10/site-packages (from httpx[http2]<1,>=0.25.2->astrapy) (0.28.1)\n",
      "Collecting pymongo>=3 (from astrapy)\n",
      "  Downloading pymongo-4.12.1-cp310-cp310-manylinux_2_17_x86_64.manylinux2014_x86_64.whl.metadata (22 kB)\n",
      "Requirement already satisfied: toml<0.11.0,>=0.10.2 in /home/rajeev/miniconda3/envs/langc/lib/python3.10/site-packages (from astrapy) (0.10.2)\n",
      "Requirement already satisfied: typing-extensions>=4.0 in /home/rajeev/miniconda3/envs/langc/lib/python3.10/site-packages (from astrapy) (4.13.0)\n",
      "Collecting uuid6>=2024.1.12 (from astrapy)\n",
      "  Downloading uuid6-2024.7.10-py3-none-any.whl.metadata (8.6 kB)\n",
      "Requirement already satisfied: packaging in /home/rajeev/miniconda3/envs/langc/lib/python3.10/site-packages (from deprecation<2.2.0,>=2.1.0->astrapy) (24.2)\n",
      "Requirement already satisfied: anyio in /home/rajeev/miniconda3/envs/langc/lib/python3.10/site-packages (from httpx<1,>=0.25.2->httpx[http2]<1,>=0.25.2->astrapy) (4.9.0)\n",
      "Requirement already satisfied: certifi in /home/rajeev/miniconda3/envs/langc/lib/python3.10/site-packages (from httpx<1,>=0.25.2->httpx[http2]<1,>=0.25.2->astrapy) (2025.1.31)\n",
      "Requirement already satisfied: httpcore==1.* in /home/rajeev/miniconda3/envs/langc/lib/python3.10/site-packages (from httpx<1,>=0.25.2->httpx[http2]<1,>=0.25.2->astrapy) (1.0.7)\n",
      "Requirement already satisfied: idna in /home/rajeev/miniconda3/envs/langc/lib/python3.10/site-packages (from httpx<1,>=0.25.2->httpx[http2]<1,>=0.25.2->astrapy) (3.10)\n",
      "Requirement already satisfied: h11<0.15,>=0.13 in /home/rajeev/miniconda3/envs/langc/lib/python3.10/site-packages (from httpcore==1.*->httpx<1,>=0.25.2->httpx[http2]<1,>=0.25.2->astrapy) (0.14.0)\n",
      "Collecting h2<5,>=3 (from httpx[http2]<1,>=0.25.2->astrapy)\n",
      "  Downloading h2-4.2.0-py3-none-any.whl.metadata (5.1 kB)\n",
      "Collecting dnspython<3.0.0,>=1.16.0 (from pymongo>=3->astrapy)\n",
      "  Downloading dnspython-2.7.0-py3-none-any.whl.metadata (5.8 kB)\n",
      "Collecting hyperframe<7,>=6.1 (from h2<5,>=3->httpx[http2]<1,>=0.25.2->astrapy)\n",
      "  Downloading hyperframe-6.1.0-py3-none-any.whl.metadata (4.3 kB)\n",
      "Collecting hpack<5,>=4.1 (from h2<5,>=3->httpx[http2]<1,>=0.25.2->astrapy)\n",
      "  Downloading hpack-4.1.0-py3-none-any.whl.metadata (4.6 kB)\n",
      "Requirement already satisfied: exceptiongroup>=1.0.2 in /home/rajeev/miniconda3/envs/langc/lib/python3.10/site-packages (from anyio->httpx<1,>=0.25.2->httpx[http2]<1,>=0.25.2->astrapy) (1.2.2)\n",
      "Requirement already satisfied: sniffio>=1.1 in /home/rajeev/miniconda3/envs/langc/lib/python3.10/site-packages (from anyio->httpx<1,>=0.25.2->httpx[http2]<1,>=0.25.2->astrapy) (1.3.1)\n",
      "Downloading astrapy-2.0.1-py3-none-any.whl (300 kB)\n",
      "Downloading deprecation-2.1.0-py2.py3-none-any.whl (11 kB)\n",
      "Downloading pymongo-4.12.1-cp310-cp310-manylinux_2_17_x86_64.manylinux2014_x86_64.whl (1.2 MB)\n",
      "\u001b[2K   \u001b[90m━━━━━━━━━━━━━━━━━━━━━━━━━━━━━━━━━━━━━━━━\u001b[0m \u001b[32m1.2/1.2 MB\u001b[0m \u001b[31m9.7 MB/s\u001b[0m eta \u001b[36m0:00:00\u001b[0m\n",
      "\u001b[?25hDownloading uuid6-2024.7.10-py3-none-any.whl (6.4 kB)\n",
      "Downloading dnspython-2.7.0-py3-none-any.whl (313 kB)\n",
      "Downloading h2-4.2.0-py3-none-any.whl (60 kB)\n",
      "Downloading hpack-4.1.0-py3-none-any.whl (34 kB)\n",
      "Downloading hyperframe-6.1.0-py3-none-any.whl (13 kB)\n",
      "Installing collected packages: uuid6, hyperframe, hpack, dnspython, deprecation, pymongo, h2, astrapy\n",
      "Successfully installed astrapy-2.0.1 deprecation-2.1.0 dnspython-2.7.0 h2-4.2.0 hpack-4.1.0 hyperframe-6.1.0 pymongo-4.12.1 uuid6-2024.7.10\n"
     ]
    }
   ],
   "source": [
    "!pip install --upgrade astrapy"
   ]
  },
  {
   "cell_type": "code",
   "execution_count": 50,
   "id": "d0af6c67",
   "metadata": {},
   "outputs": [
    {
     "name": "stdout",
     "output_type": "stream",
     "text": [
      "Connected to Astra DB: []\n"
     ]
    }
   ],
   "source": [
    "from astrapy import DataAPIClient\n",
    "\n",
    "# Initialize the client\n",
    "client = DataAPIClient(os.getenv(\"DATABASE_TOKEN\"))\n",
    "db = client.get_database_by_api_endpoint(\n",
    "  \"https://17683a4b-c09d-4cab-9266-5f462c7fbecd-us-east1.apps.astra.datastax.com\"\n",
    ")\n",
    "\n",
    "print(f\"Connected to Astra DB: {db.list_collection_names()}\")"
   ]
  },
  {
   "cell_type": "code",
   "execution_count": 51,
   "id": "071d3a69",
   "metadata": {},
   "outputs": [
    {
     "name": "stdout",
     "output_type": "stream",
     "text": [
      "Requirement already satisfied: cassandra-driver in /home/rajeev/miniconda3/envs/langc/lib/python3.10/site-packages (3.29.2)\n",
      "Requirement already satisfied: langchain in /home/rajeev/miniconda3/envs/langc/lib/python3.10/site-packages (0.3.22)\n",
      "Requirement already satisfied: langchain-community in /home/rajeev/miniconda3/envs/langc/lib/python3.10/site-packages (0.3.20)\n",
      "Requirement already satisfied: geomet<0.3,>=0.1 in /home/rajeev/miniconda3/envs/langc/lib/python3.10/site-packages (from cassandra-driver) (0.2.1.post1)\n",
      "Requirement already satisfied: langchain-core<1.0.0,>=0.3.49 in /home/rajeev/miniconda3/envs/langc/lib/python3.10/site-packages (from langchain) (0.3.50)\n",
      "Requirement already satisfied: langchain-text-splitters<1.0.0,>=0.3.7 in /home/rajeev/miniconda3/envs/langc/lib/python3.10/site-packages (from langchain) (0.3.7)\n",
      "Requirement already satisfied: langsmith<0.4,>=0.1.17 in /home/rajeev/miniconda3/envs/langc/lib/python3.10/site-packages (from langchain) (0.3.23)\n",
      "Requirement already satisfied: pydantic<3.0.0,>=2.7.4 in /home/rajeev/miniconda3/envs/langc/lib/python3.10/site-packages (from langchain) (2.11.1)\n",
      "Requirement already satisfied: SQLAlchemy<3,>=1.4 in /home/rajeev/miniconda3/envs/langc/lib/python3.10/site-packages (from langchain) (2.0.40)\n",
      "Requirement already satisfied: requests<3,>=2 in /home/rajeev/miniconda3/envs/langc/lib/python3.10/site-packages (from langchain) (2.32.3)\n",
      "Requirement already satisfied: PyYAML>=5.3 in /home/rajeev/miniconda3/envs/langc/lib/python3.10/site-packages (from langchain) (6.0.2)\n",
      "Requirement already satisfied: async-timeout<5.0.0,>=4.0.0 in /home/rajeev/miniconda3/envs/langc/lib/python3.10/site-packages (from langchain) (4.0.3)\n",
      "Requirement already satisfied: aiohttp<4.0.0,>=3.8.3 in /home/rajeev/miniconda3/envs/langc/lib/python3.10/site-packages (from langchain-community) (3.11.16)\n",
      "Requirement already satisfied: tenacity!=8.4.0,<10,>=8.1.0 in /home/rajeev/miniconda3/envs/langc/lib/python3.10/site-packages (from langchain-community) (9.1.2)\n",
      "Requirement already satisfied: dataclasses-json<0.7,>=0.5.7 in /home/rajeev/miniconda3/envs/langc/lib/python3.10/site-packages (from langchain-community) (0.6.7)\n",
      "Requirement already satisfied: pydantic-settings<3.0.0,>=2.4.0 in /home/rajeev/miniconda3/envs/langc/lib/python3.10/site-packages (from langchain-community) (2.8.1)\n",
      "Requirement already satisfied: httpx-sse<1.0.0,>=0.4.0 in /home/rajeev/miniconda3/envs/langc/lib/python3.10/site-packages (from langchain-community) (0.4.0)\n",
      "Requirement already satisfied: numpy<3,>=1.26.2 in /home/rajeev/miniconda3/envs/langc/lib/python3.10/site-packages (from langchain-community) (2.2.4)\n",
      "Requirement already satisfied: aiohappyeyeballs>=2.3.0 in /home/rajeev/miniconda3/envs/langc/lib/python3.10/site-packages (from aiohttp<4.0.0,>=3.8.3->langchain-community) (2.6.1)\n",
      "Requirement already satisfied: aiosignal>=1.1.2 in /home/rajeev/miniconda3/envs/langc/lib/python3.10/site-packages (from aiohttp<4.0.0,>=3.8.3->langchain-community) (1.3.2)\n",
      "Requirement already satisfied: attrs>=17.3.0 in /home/rajeev/miniconda3/envs/langc/lib/python3.10/site-packages (from aiohttp<4.0.0,>=3.8.3->langchain-community) (25.3.0)\n",
      "Requirement already satisfied: frozenlist>=1.1.1 in /home/rajeev/miniconda3/envs/langc/lib/python3.10/site-packages (from aiohttp<4.0.0,>=3.8.3->langchain-community) (1.5.0)\n",
      "Requirement already satisfied: multidict<7.0,>=4.5 in /home/rajeev/miniconda3/envs/langc/lib/python3.10/site-packages (from aiohttp<4.0.0,>=3.8.3->langchain-community) (6.2.0)\n",
      "Requirement already satisfied: propcache>=0.2.0 in /home/rajeev/miniconda3/envs/langc/lib/python3.10/site-packages (from aiohttp<4.0.0,>=3.8.3->langchain-community) (0.3.1)\n",
      "Requirement already satisfied: yarl<2.0,>=1.17.0 in /home/rajeev/miniconda3/envs/langc/lib/python3.10/site-packages (from aiohttp<4.0.0,>=3.8.3->langchain-community) (1.18.3)\n",
      "Requirement already satisfied: marshmallow<4.0.0,>=3.18.0 in /home/rajeev/miniconda3/envs/langc/lib/python3.10/site-packages (from dataclasses-json<0.7,>=0.5.7->langchain-community) (3.26.1)\n",
      "Requirement already satisfied: typing-inspect<1,>=0.4.0 in /home/rajeev/miniconda3/envs/langc/lib/python3.10/site-packages (from dataclasses-json<0.7,>=0.5.7->langchain-community) (0.9.0)\n",
      "Requirement already satisfied: click in /home/rajeev/miniconda3/envs/langc/lib/python3.10/site-packages (from geomet<0.3,>=0.1->cassandra-driver) (8.1.8)\n",
      "Requirement already satisfied: six in /home/rajeev/miniconda3/envs/langc/lib/python3.10/site-packages (from geomet<0.3,>=0.1->cassandra-driver) (1.17.0)\n",
      "Requirement already satisfied: jsonpatch<2.0,>=1.33 in /home/rajeev/miniconda3/envs/langc/lib/python3.10/site-packages (from langchain-core<1.0.0,>=0.3.49->langchain) (1.33)\n",
      "Requirement already satisfied: packaging<25,>=23.2 in /home/rajeev/miniconda3/envs/langc/lib/python3.10/site-packages (from langchain-core<1.0.0,>=0.3.49->langchain) (24.2)\n",
      "Requirement already satisfied: typing-extensions>=4.7 in /home/rajeev/miniconda3/envs/langc/lib/python3.10/site-packages (from langchain-core<1.0.0,>=0.3.49->langchain) (4.13.0)\n",
      "Requirement already satisfied: httpx<1,>=0.23.0 in /home/rajeev/miniconda3/envs/langc/lib/python3.10/site-packages (from langsmith<0.4,>=0.1.17->langchain) (0.28.1)\n",
      "Requirement already satisfied: orjson<4.0.0,>=3.9.14 in /home/rajeev/miniconda3/envs/langc/lib/python3.10/site-packages (from langsmith<0.4,>=0.1.17->langchain) (3.10.16)\n",
      "Requirement already satisfied: requests-toolbelt<2.0.0,>=1.0.0 in /home/rajeev/miniconda3/envs/langc/lib/python3.10/site-packages (from langsmith<0.4,>=0.1.17->langchain) (1.0.0)\n",
      "Requirement already satisfied: zstandard<0.24.0,>=0.23.0 in /home/rajeev/miniconda3/envs/langc/lib/python3.10/site-packages (from langsmith<0.4,>=0.1.17->langchain) (0.23.0)\n",
      "Requirement already satisfied: annotated-types>=0.6.0 in /home/rajeev/miniconda3/envs/langc/lib/python3.10/site-packages (from pydantic<3.0.0,>=2.7.4->langchain) (0.7.0)\n",
      "Requirement already satisfied: pydantic-core==2.33.0 in /home/rajeev/miniconda3/envs/langc/lib/python3.10/site-packages (from pydantic<3.0.0,>=2.7.4->langchain) (2.33.0)\n",
      "Requirement already satisfied: typing-inspection>=0.4.0 in /home/rajeev/miniconda3/envs/langc/lib/python3.10/site-packages (from pydantic<3.0.0,>=2.7.4->langchain) (0.4.0)\n",
      "Requirement already satisfied: python-dotenv>=0.21.0 in /home/rajeev/miniconda3/envs/langc/lib/python3.10/site-packages (from pydantic-settings<3.0.0,>=2.4.0->langchain-community) (1.1.0)\n",
      "Requirement already satisfied: charset-normalizer<4,>=2 in /home/rajeev/miniconda3/envs/langc/lib/python3.10/site-packages (from requests<3,>=2->langchain) (3.4.1)\n",
      "Requirement already satisfied: idna<4,>=2.5 in /home/rajeev/miniconda3/envs/langc/lib/python3.10/site-packages (from requests<3,>=2->langchain) (3.10)\n",
      "Requirement already satisfied: urllib3<3,>=1.21.1 in /home/rajeev/miniconda3/envs/langc/lib/python3.10/site-packages (from requests<3,>=2->langchain) (2.3.0)\n",
      "Requirement already satisfied: certifi>=2017.4.17 in /home/rajeev/miniconda3/envs/langc/lib/python3.10/site-packages (from requests<3,>=2->langchain) (2025.1.31)\n",
      "Requirement already satisfied: greenlet>=1 in /home/rajeev/miniconda3/envs/langc/lib/python3.10/site-packages (from SQLAlchemy<3,>=1.4->langchain) (3.1.1)\n",
      "Requirement already satisfied: anyio in /home/rajeev/miniconda3/envs/langc/lib/python3.10/site-packages (from httpx<1,>=0.23.0->langsmith<0.4,>=0.1.17->langchain) (4.9.0)\n",
      "Requirement already satisfied: httpcore==1.* in /home/rajeev/miniconda3/envs/langc/lib/python3.10/site-packages (from httpx<1,>=0.23.0->langsmith<0.4,>=0.1.17->langchain) (1.0.7)\n",
      "Requirement already satisfied: h11<0.15,>=0.13 in /home/rajeev/miniconda3/envs/langc/lib/python3.10/site-packages (from httpcore==1.*->httpx<1,>=0.23.0->langsmith<0.4,>=0.1.17->langchain) (0.14.0)\n",
      "Requirement already satisfied: jsonpointer>=1.9 in /home/rajeev/miniconda3/envs/langc/lib/python3.10/site-packages (from jsonpatch<2.0,>=1.33->langchain-core<1.0.0,>=0.3.49->langchain) (3.0.0)\n",
      "Requirement already satisfied: mypy-extensions>=0.3.0 in /home/rajeev/miniconda3/envs/langc/lib/python3.10/site-packages (from typing-inspect<1,>=0.4.0->dataclasses-json<0.7,>=0.5.7->langchain-community) (1.0.0)\n",
      "Requirement already satisfied: exceptiongroup>=1.0.2 in /home/rajeev/miniconda3/envs/langc/lib/python3.10/site-packages (from anyio->httpx<1,>=0.23.0->langsmith<0.4,>=0.1.17->langchain) (1.2.2)\n",
      "Requirement already satisfied: sniffio>=1.1 in /home/rajeev/miniconda3/envs/langc/lib/python3.10/site-packages (from anyio->httpx<1,>=0.23.0->langsmith<0.4,>=0.1.17->langchain) (1.3.1)\n"
     ]
    }
   ],
   "source": [
    "!pip install cassandra-driver langchain langchain-community\n"
   ]
  },
  {
   "cell_type": "code",
   "execution_count": 8,
   "id": "f82e0850",
   "metadata": {},
   "outputs": [],
   "source": [
    "import os\n",
    "from cassandra.cluster import Cluster, ExecutionProfile, EXEC_PROFILE_DEFAULT, ProtocolVersion\n",
    "from cassandra.auth import PlainTextAuthProvider\n",
    "import json\n",
    "\n",
    "cloud_config= {\n",
    "    'secure_connect_bundle': \"secure-connect-dbtest.zip\",\n",
    "    'connect_timeout': 30\n",
    "}\n",
    "auth_provider=PlainTextAuthProvider(\"token\", os.environ[\"DATABASE_TOKEN\"])\n",
    "profile = ExecutionProfile(request_timeout=30)\n",
    "cluster = Cluster(\n",
    "    cloud=cloud_config,\n",
    "    auth_provider=auth_provider,\n",
    "    execution_profiles={EXEC_PROFILE_DEFAULT: profile},\n",
    "    protocol_version=ProtocolVersion.V4\n",
    ")\n",
    "session = cluster.connect()"
   ]
  },
  {
   "cell_type": "code",
   "execution_count": 9,
   "id": "0b8f784d",
   "metadata": {},
   "outputs": [],
   "source": [
    "vector_store = Cassandra(\n",
    "    embedding=embeddings,\n",
    "    table_name=\"test2\",\n",
    "    session=session,\n",
    "    keyspace=\"default_keyspace\"\n",
    ")"
   ]
  },
  {
   "cell_type": "code",
   "execution_count": 10,
   "id": "398cd6c0",
   "metadata": {},
   "outputs": [
    {
     "name": "stdout",
     "output_type": "stream",
     "text": [
      "Inserted\n"
     ]
    }
   ],
   "source": [
    "vector_store.add_documents(documents)\n",
    "print(\"Inserted\")\n",
    "vector_index = VectorStoreIndexWrapper(vectorstore=vector_store)"
   ]
  },
  {
   "cell_type": "code",
   "execution_count": 12,
   "id": "e6b5dc07",
   "metadata": {},
   "outputs": [
    {
     "data": {
      "text/plain": [
       "'Based on the provided information, Rajeev Goel is currently working as a Gen AI Specialist Intern at Assurant and as a Contributor at Code4GovTech - DMP 2025. He is also a Project Intern at TIH-IoT IIT Bombay (Chanakya).'"
      ]
     },
     "execution_count": 12,
     "metadata": {},
     "output_type": "execute_result"
    }
   ],
   "source": [
    "vector_index = VectorStoreIndexWrapper(vectorstore=vector_store)\n",
    "query = \"What company is Rajeev Goel working as internship?\"\n",
    "answer = vector_index.query(query, llm=llm).strip()\n",
    "answer"
   ]
  },
  {
   "cell_type": "code",
   "execution_count": null,
   "id": "95019fff",
   "metadata": {},
   "outputs": [
    {
     "name": "stdout",
     "output_type": "stream",
     "text": [
      "Answer: I'm designed to provide information based on Rajeev Goel's portfolio and experiences. His favorite movie is not mentioned in the provided documents.\n",
      "Answer: Okay, I will remember that Rajeev Goel's favorite movie is \"Rab Ne Bana Di Jodi\". However, keep in mind that this information is not derived from his professional portfolio.\n",
      "Answer: Rajeev's favorite movie is \"Rab Ne Bana Di Jodi.\" However, please note that this information is not derived from his professional portfolio.\n",
      "Answer: I don't have information about Rajeev's favorite actor in his portfolio.\n"
     ]
    }
   ],
   "source": [
    "from langchain.memory import ConversationSummaryMemory\n",
    "from langchain_core.prompts import ChatPromptTemplate\n",
    "from langchain.chains.combine_documents import create_stuff_documents_chain\n",
    "from langchain.chains import create_retrieval_chain\n",
    "\n",
    "retriever = vector_index.vectorstore.as_retriever()\n",
    "\n",
    "# === Memory ===\n",
    "memory = ConversationSummaryMemory(\n",
    "    llm=llm,\n",
    "    memory_key=\"chat_history\",\n",
    "    return_messages=True\n",
    ")\n",
    "\n",
    "prompt = ChatPromptTemplate.from_template(\n",
    "        \"You are a friendly and knowledgeable AI assistant designed to help users explore Rajeev Goel’s professional portfolio. Provide concise, accurate, and engaging answers based on the provided context documents, which include details about Rajeev’s projects, experiences, skills, and achievements. If the answer is not in the context, respond honestly and say you don't have that information. Always maintain a helpful and approachable tone. Refer to Rajeev in the third person (e.g., \\\"Rajeev has worked on...\\\").\\n\\n\"\n",
    "        \"<context>\\n{context}\\n</context>\\n\\n\"\n",
    "        \"You may also refer the memory provided by the user.\\n\\n\"\n",
    "        \"Memory: {memory}\\n\\n\"\n",
    "        \"Question: {input}\"\n",
    "    )\n",
    "\n",
    "# Combine documents + retrieval\n",
    "combine_docs_chain = create_stuff_documents_chain(llm, prompt)\n",
    "chain = create_retrieval_chain(retriever, combine_docs_chain)\n",
    "\n",
    "def ask_question(question: str) -> str:\n",
    "    global memory\n",
    "    response = chain.invoke({\"input\": question, \"memory\": memory.buffer})\n",
    "    return response[\"answer\"]\n",
    "\n",
    "question = \"What is Rajeev's favorite movie?\"\n",
    "answer = ask_question(question)\n",
    "print(\"Answer:\", answer)\n",
    "memory.save_context({\"input\": question}, {\"output\": answer})\n",
    "\n",
    "question = \"Rajeev goel's favorite movie is \\\"rab ne bana di jodi\\\". Remember it.\"\n",
    "answer = ask_question(question)\n",
    "print(\"Answer:\", answer)\n",
    "memory.save_context({\"input\": question}, {\"output\": answer})\n",
    "\n",
    "question = \"What is Rajeev's favorite movie?\"\n",
    "answer = ask_question(question)\n",
    "print(\"Answer:\", answer)\n",
    "memory.save_context({\"input\": question}, {\"output\": answer})\n",
    "\n",
    "question = \"Who is Rajeev's favorite actor?\"\n",
    "answer = ask_question(question)\n",
    "print(\"Answer:\", answer)"
   ]
  },
  {
   "cell_type": "code",
   "execution_count": 33,
   "id": "21439f0a",
   "metadata": {},
   "outputs": [],
   "source": [
    "memory.clear()"
   ]
  },
  {
   "cell_type": "code",
   "execution_count": 34,
   "id": "c4ec6f53",
   "metadata": {},
   "outputs": [
    {
     "name": "stdout",
     "output_type": "stream",
     "text": [
      "Answer: I am designed to provide information based on Rajeev Goel's professional portfolio. I do not have access to information about his favorite movie.\n"
     ]
    }
   ],
   "source": [
    "question = \"What is Rajeev's favorite movie?\"\n",
    "answer = ask_question(question)\n",
    "print(\"Answer:\", answer)\n",
    "memory.save_context({\"input\": question}, {\"output\": answer})"
   ]
  },
  {
   "cell_type": "code",
   "execution_count": 29,
   "id": "6ad58afa",
   "metadata": {},
   "outputs": [
    {
     "data": {
      "text/plain": [
       "\"The human asks what Rajeev's favorite movie is, and the AI responds that it does not have that information.\""
      ]
     },
     "execution_count": 29,
     "metadata": {},
     "output_type": "execute_result"
    }
   ],
   "source": [
    "memory.buffer"
   ]
  }
 ],
 "metadata": {
  "kernelspec": {
   "display_name": ".venv",
   "language": "python",
   "name": "python3"
  },
  "language_info": {
   "codemirror_mode": {
    "name": "ipython",
    "version": 3
   },
   "file_extension": ".py",
   "mimetype": "text/x-python",
   "name": "python",
   "nbconvert_exporter": "python",
   "pygments_lexer": "ipython3",
   "version": "3.10.17"
  }
 },
 "nbformat": 4,
 "nbformat_minor": 5
}
